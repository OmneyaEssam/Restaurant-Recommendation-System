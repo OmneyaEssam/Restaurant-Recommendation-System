{
  "nbformat": 4,
  "nbformat_minor": 0,
  "metadata": {
    "colab": {
      "name": "Restaurant Recommendation System.ipynb",
      "provenance": [],
      "mount_file_id": "1kUw3cOTaP3I8jBOMqh_V5SlH1DhUT5Cl",
      "authorship_tag": "ABX9TyPFa4ZhRXrQfAJgB3KRAB2I",
      "include_colab_link": true
    },
    "kernelspec": {
      "name": "python3",
      "display_name": "Python 3"
    }
  },
  "cells": [
    {
      "cell_type": "markdown",
      "metadata": {
        "id": "view-in-github",
        "colab_type": "text"
      },
      "source": [
        "<a href=\"https://colab.research.google.com/github/OmneyaEssam/Restaurant-Recommendation-System/blob/main/Restaurant_Recommendation_System.ipynb\" target=\"_parent\"><img src=\"https://colab.research.google.com/assets/colab-badge.svg\" alt=\"Open In Colab\"/></a>"
      ]
    },
    {
      "cell_type": "code",
      "metadata": {
        "colab": {
          "base_uri": "https://localhost:8080/"
        },
        "id": "ZShJuaAIMIfO",
        "outputId": "7c9e80b0-e7f6-4965-bb60-c77ec2cc4f8d"
      },
      "source": [
        "!pip install -q kaggle\r\n",
        "!pip install -q kaggle-cli\r\n",
        "!mkdir -p ~/.kaggle\r\n",
        "!cp \"/content/drive/MyDrive/kaggle.json\" ~/.kaggle/\r\n",
        "!cat ~/.kaggle/kaggle.json \r\n",
        "!chmod 600 ~/.kaggle/kaggle.json\r\n",
        "# For other datasets\r\n",
        "!kaggle datasets download -d himanshupoddar/zomato-bangalore-restaurants -p Dataset"
      ],
      "execution_count": null,
      "outputs": [
        {
          "output_type": "stream",
          "text": [
            "\u001b[K     |████████████████████████████████| 81kB 3.6MB/s \n",
            "\u001b[K     |████████████████████████████████| 5.3MB 8.2MB/s \n",
            "\u001b[K     |████████████████████████████████| 133kB 48.8MB/s \n",
            "\u001b[K     |████████████████████████████████| 51kB 6.4MB/s \n",
            "\u001b[K     |████████████████████████████████| 112kB 48.4MB/s \n",
            "\u001b[?25h  Building wheel for kaggle-cli (setup.py) ... \u001b[?25l\u001b[?25hdone\n",
            "  Building wheel for PrettyTable (setup.py) ... \u001b[?25l\u001b[?25hdone\n",
            "  Building wheel for pyperclip (setup.py) ... \u001b[?25l\u001b[?25hdone\n",
            "{\"username\":\"omneyaessamkamal\",\"key\":\"1fd664e3ec21be3aa80fd3e5c7228dfc\"}Downloading zomato-bangalore-restaurants.zip to Dataset\n",
            " 89% 79.0M/89.0M [00:00<00:00, 76.7MB/s]\n",
            "100% 89.0M/89.0M [00:00<00:00, 130MB/s] \n"
          ],
          "name": "stdout"
        }
      ]
    },
    {
      "cell_type": "code",
      "metadata": {
        "colab": {
          "base_uri": "https://localhost:8080/"
        },
        "id": "FBHqV6bbRHId",
        "outputId": "676bb209-b748-45c5-c01c-cfa22c6360c8"
      },
      "source": [
        "!unzip \"/content/Dataset/zomato-bangalore-restaurants.zip\" -d \"/content/Dataset\""
      ],
      "execution_count": null,
      "outputs": [
        {
          "output_type": "stream",
          "text": [
            "Archive:  /content/Dataset/zomato-bangalore-restaurants.zip\n",
            "  inflating: /content/Dataset/zomato.csv  \n"
          ],
          "name": "stdout"
        }
      ]
    },
    {
      "cell_type": "code",
      "metadata": {
        "id": "Mz9WngzQRLjH"
      },
      "source": [
        "import numpy as np\r\n",
        "import pandas as pd\r\n",
        "import seaborn as sb\r\n",
        "import matplotlib.pyplot as plt\r\n",
        "import seaborn as sns\r\n",
        "from sklearn.linear_model import LogisticRegression\r\n",
        "from sklearn.linear_model import LinearRegression\r\n",
        "from sklearn.model_selection import train_test_split\r\n",
        "from sklearn.metrics import classification_report\r\n",
        "from sklearn.metrics import confusion_matrix\r\n",
        "from sklearn.metrics import r2_score\r\n",
        "import warnings\r\n",
        "warnings.filterwarnings('always')\r\n",
        "warnings.filterwarnings('ignore')\r\n",
        "import re\r\n",
        "from nltk.corpus import stopwords\r\n",
        "from sklearn.metrics.pairwise import linear_kernel\r\n",
        "from sklearn.feature_extraction.text import CountVectorizer\r\n",
        "from sklearn.feature_extraction.text import TfidfVectorizer"
      ],
      "execution_count": null,
      "outputs": []
    },
    {
      "cell_type": "code",
      "metadata": {
        "colab": {
          "base_uri": "https://localhost:8080/",
          "height": 598
        },
        "id": "zDUbXS0uTwx5",
        "outputId": "f77f21ae-ee02-425a-ee30-040b59a4af0a"
      },
      "source": [
        "zomato_real=pd.read_csv(\"/content/Dataset/zomato.csv\")\r\n",
        "zomato_real.head() # prints the first 5 rows of the dataset"
      ],
      "execution_count": null,
      "outputs": [
        {
          "output_type": "execute_result",
          "data": {
            "text/html": [
              "<div>\n",
              "<style scoped>\n",
              "    .dataframe tbody tr th:only-of-type {\n",
              "        vertical-align: middle;\n",
              "    }\n",
              "\n",
              "    .dataframe tbody tr th {\n",
              "        vertical-align: top;\n",
              "    }\n",
              "\n",
              "    .dataframe thead th {\n",
              "        text-align: right;\n",
              "    }\n",
              "</style>\n",
              "<table border=\"1\" class=\"dataframe\">\n",
              "  <thead>\n",
              "    <tr style=\"text-align: right;\">\n",
              "      <th></th>\n",
              "      <th>url</th>\n",
              "      <th>address</th>\n",
              "      <th>name</th>\n",
              "      <th>online_order</th>\n",
              "      <th>book_table</th>\n",
              "      <th>rate</th>\n",
              "      <th>votes</th>\n",
              "      <th>phone</th>\n",
              "      <th>location</th>\n",
              "      <th>rest_type</th>\n",
              "      <th>dish_liked</th>\n",
              "      <th>cuisines</th>\n",
              "      <th>approx_cost(for two people)</th>\n",
              "      <th>reviews_list</th>\n",
              "      <th>menu_item</th>\n",
              "      <th>listed_in(type)</th>\n",
              "      <th>listed_in(city)</th>\n",
              "    </tr>\n",
              "  </thead>\n",
              "  <tbody>\n",
              "    <tr>\n",
              "      <th>0</th>\n",
              "      <td>https://www.zomato.com/bangalore/jalsa-banasha...</td>\n",
              "      <td>942, 21st Main Road, 2nd Stage, Banashankari, ...</td>\n",
              "      <td>Jalsa</td>\n",
              "      <td>Yes</td>\n",
              "      <td>Yes</td>\n",
              "      <td>4.1/5</td>\n",
              "      <td>775</td>\n",
              "      <td>080 42297555\\r\\n+91 9743772233</td>\n",
              "      <td>Banashankari</td>\n",
              "      <td>Casual Dining</td>\n",
              "      <td>Pasta, Lunch Buffet, Masala Papad, Paneer Laja...</td>\n",
              "      <td>North Indian, Mughlai, Chinese</td>\n",
              "      <td>800</td>\n",
              "      <td>[('Rated 4.0', 'RATED\\n  A beautiful place to ...</td>\n",
              "      <td>[]</td>\n",
              "      <td>Buffet</td>\n",
              "      <td>Banashankari</td>\n",
              "    </tr>\n",
              "    <tr>\n",
              "      <th>1</th>\n",
              "      <td>https://www.zomato.com/bangalore/spice-elephan...</td>\n",
              "      <td>2nd Floor, 80 Feet Road, Near Big Bazaar, 6th ...</td>\n",
              "      <td>Spice Elephant</td>\n",
              "      <td>Yes</td>\n",
              "      <td>No</td>\n",
              "      <td>4.1/5</td>\n",
              "      <td>787</td>\n",
              "      <td>080 41714161</td>\n",
              "      <td>Banashankari</td>\n",
              "      <td>Casual Dining</td>\n",
              "      <td>Momos, Lunch Buffet, Chocolate Nirvana, Thai G...</td>\n",
              "      <td>Chinese, North Indian, Thai</td>\n",
              "      <td>800</td>\n",
              "      <td>[('Rated 4.0', 'RATED\\n  Had been here for din...</td>\n",
              "      <td>[]</td>\n",
              "      <td>Buffet</td>\n",
              "      <td>Banashankari</td>\n",
              "    </tr>\n",
              "    <tr>\n",
              "      <th>2</th>\n",
              "      <td>https://www.zomato.com/SanchurroBangalore?cont...</td>\n",
              "      <td>1112, Next to KIMS Medical College, 17th Cross...</td>\n",
              "      <td>San Churro Cafe</td>\n",
              "      <td>Yes</td>\n",
              "      <td>No</td>\n",
              "      <td>3.8/5</td>\n",
              "      <td>918</td>\n",
              "      <td>+91 9663487993</td>\n",
              "      <td>Banashankari</td>\n",
              "      <td>Cafe, Casual Dining</td>\n",
              "      <td>Churros, Cannelloni, Minestrone Soup, Hot Choc...</td>\n",
              "      <td>Cafe, Mexican, Italian</td>\n",
              "      <td>800</td>\n",
              "      <td>[('Rated 3.0', \"RATED\\n  Ambience is not that ...</td>\n",
              "      <td>[]</td>\n",
              "      <td>Buffet</td>\n",
              "      <td>Banashankari</td>\n",
              "    </tr>\n",
              "    <tr>\n",
              "      <th>3</th>\n",
              "      <td>https://www.zomato.com/bangalore/addhuri-udupi...</td>\n",
              "      <td>1st Floor, Annakuteera, 3rd Stage, Banashankar...</td>\n",
              "      <td>Addhuri Udupi Bhojana</td>\n",
              "      <td>No</td>\n",
              "      <td>No</td>\n",
              "      <td>3.7/5</td>\n",
              "      <td>88</td>\n",
              "      <td>+91 9620009302</td>\n",
              "      <td>Banashankari</td>\n",
              "      <td>Quick Bites</td>\n",
              "      <td>Masala Dosa</td>\n",
              "      <td>South Indian, North Indian</td>\n",
              "      <td>300</td>\n",
              "      <td>[('Rated 4.0', \"RATED\\n  Great food and proper...</td>\n",
              "      <td>[]</td>\n",
              "      <td>Buffet</td>\n",
              "      <td>Banashankari</td>\n",
              "    </tr>\n",
              "    <tr>\n",
              "      <th>4</th>\n",
              "      <td>https://www.zomato.com/bangalore/grand-village...</td>\n",
              "      <td>10, 3rd Floor, Lakshmi Associates, Gandhi Baza...</td>\n",
              "      <td>Grand Village</td>\n",
              "      <td>No</td>\n",
              "      <td>No</td>\n",
              "      <td>3.8/5</td>\n",
              "      <td>166</td>\n",
              "      <td>+91 8026612447\\r\\n+91 9901210005</td>\n",
              "      <td>Basavanagudi</td>\n",
              "      <td>Casual Dining</td>\n",
              "      <td>Panipuri, Gol Gappe</td>\n",
              "      <td>North Indian, Rajasthani</td>\n",
              "      <td>600</td>\n",
              "      <td>[('Rated 4.0', 'RATED\\n  Very good restaurant ...</td>\n",
              "      <td>[]</td>\n",
              "      <td>Buffet</td>\n",
              "      <td>Banashankari</td>\n",
              "    </tr>\n",
              "  </tbody>\n",
              "</table>\n",
              "</div>"
            ],
            "text/plain": [
              "                                                 url  ... listed_in(city)\n",
              "0  https://www.zomato.com/bangalore/jalsa-banasha...  ...    Banashankari\n",
              "1  https://www.zomato.com/bangalore/spice-elephan...  ...    Banashankari\n",
              "2  https://www.zomato.com/SanchurroBangalore?cont...  ...    Banashankari\n",
              "3  https://www.zomato.com/bangalore/addhuri-udupi...  ...    Banashankari\n",
              "4  https://www.zomato.com/bangalore/grand-village...  ...    Banashankari\n",
              "\n",
              "[5 rows x 17 columns]"
            ]
          },
          "metadata": {
            "tags": []
          },
          "execution_count": 7
        }
      ]
    },
    {
      "cell_type": "code",
      "metadata": {
        "id": "UHxYTad4VT8O"
      },
      "source": [
        "#Deleting Unnnecessary Columns\r\n",
        "zomato=zomato_real.drop(['url','dish_liked','phone'],axis=1) #Dropping the column \"dish_liked\", \"phone\", \"url\" and saving the new dataset as \"zomato\"\r\n"
      ],
      "execution_count": null,
      "outputs": []
    },
    {
      "cell_type": "code",
      "metadata": {
        "id": "Lcd5e06uWexx"
      },
      "source": [
        "#Removing the Duplicates\r\n",
        "zomato.duplicated().sum()\r\n",
        "zomato.drop_duplicates(inplace=True)"
      ],
      "execution_count": null,
      "outputs": []
    },
    {
      "cell_type": "code",
      "metadata": {
        "id": "kJIYnKQCWkBf"
      },
      "source": [
        "#Remove the NaN values from the dataset\r\n",
        "zomato.isnull().sum()\r\n",
        "zomato.dropna(how='any',inplace=True)"
      ],
      "execution_count": null,
      "outputs": []
    },
    {
      "cell_type": "code",
      "metadata": {
        "id": "LaCGTeCIWunK"
      },
      "source": [
        "#Changing the column names\r\n",
        "zomato = zomato.rename(columns={'approx_cost(for two people)':'cost','listed_in(type)':'type', 'listed_in(city)':'city'})\r\n"
      ],
      "execution_count": null,
      "outputs": []
    },
    {
      "cell_type": "code",
      "metadata": {
        "id": "cNAHm5HAW3I8"
      },
      "source": [
        "#Some Transformations\r\n",
        "zomato['cost'] = zomato['cost'].astype(str) #Changing the cost to string\r\n",
        "zomato['cost'] = zomato['cost'].apply(lambda x: x.replace(',','.')) #Using lambda function to replace ',' from cost\r\n",
        "zomato['cost'] = zomato['cost'].astype(float)\r\n",
        "#Removing '/5' from Rates\r\n",
        "zomato = zomato.loc[zomato.rate !='NEW']\r\n",
        "zomato = zomato.loc[zomato.rate !='-'].reset_index(drop=True)\r\n",
        "remove_slash = lambda x: x.replace('/5', '') if type(x) == np.str else x\r\n",
        "zomato.rate = zomato.rate.apply(remove_slash).str.strip().astype('float')"
      ],
      "execution_count": null,
      "outputs": []
    },
    {
      "cell_type": "code",
      "metadata": {
        "id": "wu2mRQwGYTRG"
      },
      "source": [
        "# Adjust the column names\r\n",
        "zomato.name = zomato.name.apply(lambda x:x.title())\r\n",
        "zomato.online_order.replace(('Yes','No'),(True, False),inplace=True)\r\n",
        "zomato.book_table.replace(('Yes','No'),(True, False),inplace=True)"
      ],
      "execution_count": null,
      "outputs": []
    },
    {
      "cell_type": "code",
      "metadata": {
        "id": "h3fw1AV2YcV8"
      },
      "source": [
        "## Computing Mean Rating\r\n",
        "restaurants = list(zomato['name'].unique())\r\n",
        "zomato['Mean Rating'] = 0"
      ],
      "execution_count": null,
      "outputs": []
    },
    {
      "cell_type": "code",
      "metadata": {
        "id": "gkj2adIWYjxK"
      },
      "source": [
        "for i in range(len(restaurants)):\r\n",
        "    zomato['Mean Rating'][zomato['name'] == restaurants[i]] = zomato['rate'][zomato['name'] == restaurants[i]].mean()\r\n",
        "    "
      ],
      "execution_count": null,
      "outputs": []
    },
    {
      "cell_type": "code",
      "metadata": {
        "id": "9AXd6mz4YsYw"
      },
      "source": [
        "from sklearn.preprocessing import MinMaxScaler\r\n",
        "scaler = MinMaxScaler(feature_range = (1,5))\r\n",
        "zomato[['Mean Rating']] = scaler.fit_transform(zomato[['Mean Rating']]).round(2)"
      ],
      "execution_count": null,
      "outputs": []
    },
    {
      "cell_type": "code",
      "metadata": {
        "colab": {
          "base_uri": "https://localhost:8080/"
        },
        "id": "3Uw8JnYVc6Tq",
        "outputId": "eed0451e-d423-4cd0-e744-efb33eefe320"
      },
      "source": [
        "import nltk\r\n",
        "nltk.download('stopwords')"
      ],
      "execution_count": null,
      "outputs": [
        {
          "output_type": "stream",
          "text": [
            "[nltk_data] Downloading package stopwords to /root/nltk_data...\n",
            "[nltk_data]   Unzipping corpora/stopwords.zip.\n"
          ],
          "name": "stdout"
        },
        {
          "output_type": "execute_result",
          "data": {
            "text/plain": [
              "True"
            ]
          },
          "metadata": {
            "tags": []
          },
          "execution_count": 18
        }
      ]
    },
    {
      "cell_type": "code",
      "metadata": {
        "colab": {
          "base_uri": "https://localhost:8080/",
          "height": 204
        },
        "id": "hRkH44JcY6uV",
        "outputId": "4d2422cf-7db0-4a29-cb29-54045a50ef4f"
      },
      "source": [
        "## Lower Casing\r\n",
        "zomato[\"reviews_list\"] = zomato[\"reviews_list\"].str.lower()\r\n",
        "\r\n",
        "## Removal of Puctuations\r\n",
        "import string\r\n",
        "PUNCT_TO_REMOVE = string.punctuation\r\n",
        "def remove_punctuation(text):\r\n",
        "    \"\"\"custom function to remove the punctuation\"\"\"\r\n",
        "    return text.translate(str.maketrans('', '', PUNCT_TO_REMOVE))\r\n",
        "\r\n",
        "zomato[\"reviews_list\"] = zomato[\"reviews_list\"].apply(lambda text: remove_punctuation(text))\r\n",
        "\r\n",
        "## Removal of Stopwords\r\n",
        "from nltk.corpus import stopwords\r\n",
        "STOPWORDS = set(stopwords.words('english'))\r\n",
        "def remove_stopwords(text):\r\n",
        "    \"\"\"custom function to remove the stopwords\"\"\"\r\n",
        "    return \" \".join([word for word in str(text).split() if word not in STOPWORDS])\r\n",
        "\r\n",
        "zomato[\"reviews_list\"] = zomato[\"reviews_list\"].apply(lambda text: remove_stopwords(text))\r\n",
        "\r\n",
        "## Removal of URLS\r\n",
        "def remove_urls(text):\r\n",
        "    url_pattern = re.compile(r'https?://\\S+|www\\.\\S+')\r\n",
        "    return url_pattern.sub(r'', text)\r\n",
        "\r\n",
        "zomato[\"reviews_list\"] = zomato[\"reviews_list\"].apply(lambda text: remove_urls(text))\r\n",
        "\r\n",
        "zomato[['reviews_list', 'cuisines']].sample(5)"
      ],
      "execution_count": null,
      "outputs": [
        {
          "output_type": "execute_result",
          "data": {
            "text/html": [
              "<div>\n",
              "<style scoped>\n",
              "    .dataframe tbody tr th:only-of-type {\n",
              "        vertical-align: middle;\n",
              "    }\n",
              "\n",
              "    .dataframe tbody tr th {\n",
              "        vertical-align: top;\n",
              "    }\n",
              "\n",
              "    .dataframe thead th {\n",
              "        text-align: right;\n",
              "    }\n",
              "</style>\n",
              "<table border=\"1\" class=\"dataframe\">\n",
              "  <thead>\n",
              "    <tr style=\"text-align: right;\">\n",
              "      <th></th>\n",
              "      <th>reviews_list</th>\n",
              "      <th>cuisines</th>\n",
              "    </tr>\n",
              "  </thead>\n",
              "  <tbody>\n",
              "    <tr>\n",
              "      <th>3257</th>\n",
              "      <td>rated 10 ratedn isnt usual packing get im sati...</td>\n",
              "      <td>Continental, North Indian, Desserts, Beverages</td>\n",
              "    </tr>\n",
              "    <tr>\n",
              "      <th>30585</th>\n",
              "      <td>rated 10 ratedn outlet landmark yemlur locatio...</td>\n",
              "      <td>Bakery</td>\n",
              "    </tr>\n",
              "    <tr>\n",
              "      <th>7054</th>\n",
              "      <td></td>\n",
              "      <td>North Indian, Biryani</td>\n",
              "    </tr>\n",
              "    <tr>\n",
              "      <th>38192</th>\n",
              "      <td>rated 50 ratedn place good many starters box n...</td>\n",
              "      <td>Modern Indian, North Indian, Pizza, Continenta...</td>\n",
              "    </tr>\n",
              "    <tr>\n",
              "      <th>17875</th>\n",
              "      <td>rated 40 ratedn ordered food ubq barbeque nati...</td>\n",
              "      <td>North Indian, BBQ, Biryani, Kebab</td>\n",
              "    </tr>\n",
              "  </tbody>\n",
              "</table>\n",
              "</div>"
            ],
            "text/plain": [
              "                                            reviews_list                                           cuisines\n",
              "3257   rated 10 ratedn isnt usual packing get im sati...     Continental, North Indian, Desserts, Beverages\n",
              "30585  rated 10 ratedn outlet landmark yemlur locatio...                                             Bakery\n",
              "7054                                                                                  North Indian, Biryani\n",
              "38192  rated 50 ratedn place good many starters box n...  Modern Indian, North Indian, Pizza, Continenta...\n",
              "17875  rated 40 ratedn ordered food ubq barbeque nati...                  North Indian, BBQ, Biryani, Kebab"
            ]
          },
          "metadata": {
            "tags": []
          },
          "execution_count": 19
        }
      ]
    },
    {
      "cell_type": "code",
      "metadata": {
        "id": "MVLKI45RckjW"
      },
      "source": [
        "# RESTAURANT NAMES:\r\n",
        "restaurant_names = list(zomato['name'].unique())\r\n",
        "def get_top_words(column, top_nu_of_words, nu_of_word):\r\n",
        "    vec = CountVectorizer(ngram_range= nu_of_word, stop_words='english')\r\n",
        "    bag_of_words = vec.fit_transform(column)\r\n",
        "    sum_words = bag_of_words.sum(axis=0)\r\n",
        "    words_freq = [(word, sum_words[0, idx]) for word, idx in vec.vocabulary_.items()]\r\n",
        "    words_freq =sorted(words_freq, key = lambda x: x[1], reverse=True)\r\n",
        "    return words_freq[:top_nu_of_words]\r\n",
        "    \r\n",
        "zomato=zomato.drop(['address','rest_type', 'type', 'menu_item', 'votes'],axis=1)\r\n",
        "import pandas\r\n",
        "\r\n",
        "# Randomly sample 60% of your dataframe\r\n",
        "df_percent = zomato.sample(frac=0.5)"
      ],
      "execution_count": null,
      "outputs": []
    },
    {
      "cell_type": "code",
      "metadata": {
        "id": "dhZ7oLZtddhP"
      },
      "source": [
        "df_percent.set_index('name', inplace=True)\r\n",
        "indices = pd.Series(df_percent.index)\r\n",
        "\r\n",
        "# Creating tf-idf matrix\r\n",
        "tfidf = TfidfVectorizer(analyzer='word', ngram_range=(1, 2), min_df=0, stop_words='english')\r\n",
        "tfidf_matrix = tfidf.fit_transform(df_percent['reviews_list'])\r\n",
        "\r\n",
        "cosine_similarities = linear_kernel(tfidf_matrix, tfidf_matrix)"
      ],
      "execution_count": null,
      "outputs": []
    },
    {
      "cell_type": "code",
      "metadata": {
        "id": "dblTqkREd9Ox"
      },
      "source": [
        "def recommend(name, cosine_similarities = cosine_similarities):\r\n",
        "    \r\n",
        "    # Create a list to put top restaurants\r\n",
        "    recommend_restaurant = []\r\n",
        "    \r\n",
        "    # Find the index of the hotel entered\r\n",
        "    idx = indices[indices == name].index[0]\r\n",
        "    \r\n",
        "    # Find the restaurants with a similar cosine-sim value and order them from bigges number\r\n",
        "    score_series = pd.Series(cosine_similarities[idx]).sort_values(ascending=False)\r\n",
        "    \r\n",
        "    # Extract top 30 restaurant indexes with a similar cosine-sim value\r\n",
        "    top30_indexes = list(score_series.iloc[0:31].index)\r\n",
        "    \r\n",
        "    # Names of the top 30 restaurants\r\n",
        "    for each in top30_indexes:\r\n",
        "        recommend_restaurant.append(list(df_percent.index)[each])\r\n",
        "    \r\n",
        "    # Creating the new data set to show similar restaurants\r\n",
        "    df_new = pd.DataFrame(columns=['cuisines', 'Mean Rating', 'cost'])\r\n",
        "    \r\n",
        "    # Create the top 30 similar restaurants with some of their columns\r\n",
        "    for each in recommend_restaurant:\r\n",
        "        df_new = df_new.append(pd.DataFrame(df_percent[['cuisines','Mean Rating', 'cost']][df_percent.index == each].sample()))\r\n",
        "    \r\n",
        "    # Drop the same named restaurants and sort only the top 10 by the highest rating\r\n",
        "    df_new = df_new.drop_duplicates(subset=['cuisines','Mean Rating', 'cost'], keep=False)\r\n",
        "    df_new = df_new.sort_values(by='Mean Rating', ascending=False).head(10)\r\n",
        "    \r\n",
        "    print('TOP %s RESTAURANTS LIKE %s WITH SIMILAR REVIEWS: ' % (str(len(df_new)), name))\r\n",
        "    \r\n",
        "    return df_new"
      ],
      "execution_count": null,
      "outputs": []
    },
    {
      "cell_type": "code",
      "metadata": {
        "id": "ruOH6-e8emmr",
        "colab": {
          "base_uri": "https://localhost:8080/",
          "height": 345
        },
        "outputId": "2285adff-8bb6-4323-928b-ce1ab6dc5e0e"
      },
      "source": [
        "recommend('Pai Vihar')"
      ],
      "execution_count": null,
      "outputs": [
        {
          "output_type": "stream",
          "text": [
            "TOP 9 RESTAURANTS LIKE Pai Vihar WITH SIMILAR REVIEWS: \n"
          ],
          "name": "stdout"
        },
        {
          "output_type": "execute_result",
          "data": {
            "text/html": [
              "<div>\n",
              "<style scoped>\n",
              "    .dataframe tbody tr th:only-of-type {\n",
              "        vertical-align: middle;\n",
              "    }\n",
              "\n",
              "    .dataframe tbody tr th {\n",
              "        vertical-align: top;\n",
              "    }\n",
              "\n",
              "    .dataframe thead th {\n",
              "        text-align: right;\n",
              "    }\n",
              "</style>\n",
              "<table border=\"1\" class=\"dataframe\">\n",
              "  <thead>\n",
              "    <tr style=\"text-align: right;\">\n",
              "      <th></th>\n",
              "      <th>cuisines</th>\n",
              "      <th>Mean Rating</th>\n",
              "      <th>cost</th>\n",
              "    </tr>\n",
              "  </thead>\n",
              "  <tbody>\n",
              "    <tr>\n",
              "      <th>Cinnamon</th>\n",
              "      <td>North Indian, Chinese, Biryani</td>\n",
              "      <td>3.62</td>\n",
              "      <td>550.0</td>\n",
              "    </tr>\n",
              "    <tr>\n",
              "      <th>Samosa Singh</th>\n",
              "      <td>Street Food, Beverages</td>\n",
              "      <td>3.60</td>\n",
              "      <td>150.0</td>\n",
              "    </tr>\n",
              "    <tr>\n",
              "      <th>New Friends</th>\n",
              "      <td>North Indian, Continental, Chinese, Steak</td>\n",
              "      <td>3.58</td>\n",
              "      <td>900.0</td>\n",
              "    </tr>\n",
              "    <tr>\n",
              "      <th>Magix'S Parattha Roll</th>\n",
              "      <td>Fast Food, North Indian, Chinese, Mughlai, Rolls</td>\n",
              "      <td>3.52</td>\n",
              "      <td>400.0</td>\n",
              "    </tr>\n",
              "    <tr>\n",
              "      <th>Cafe Mondo</th>\n",
              "      <td>Cafe, Italian, Beverages</td>\n",
              "      <td>3.39</td>\n",
              "      <td>600.0</td>\n",
              "    </tr>\n",
              "    <tr>\n",
              "      <th>Vasanth Vihar - Since 1965</th>\n",
              "      <td>South Indian, Street Food</td>\n",
              "      <td>3.32</td>\n",
              "      <td>150.0</td>\n",
              "    </tr>\n",
              "    <tr>\n",
              "      <th>Container Coffee</th>\n",
              "      <td>South Indian</td>\n",
              "      <td>3.11</td>\n",
              "      <td>200.0</td>\n",
              "    </tr>\n",
              "    <tr>\n",
              "      <th>Melange - Hotel Ekaa</th>\n",
              "      <td>North Indian, Chinese, Continental, Mangalorean</td>\n",
              "      <td>2.81</td>\n",
              "      <td>900.0</td>\n",
              "    </tr>\n",
              "    <tr>\n",
              "      <th>Tamarind</th>\n",
              "      <td>Chinese, North Indian, Continental</td>\n",
              "      <td>2.16</td>\n",
              "      <td>750.0</td>\n",
              "    </tr>\n",
              "  </tbody>\n",
              "</table>\n",
              "</div>"
            ],
            "text/plain": [
              "                                                                    cuisines  ...   cost\n",
              "Cinnamon                                      North Indian, Chinese, Biryani  ...  550.0\n",
              "Samosa Singh                                          Street Food, Beverages  ...  150.0\n",
              "New Friends                        North Indian, Continental, Chinese, Steak  ...  900.0\n",
              "Magix'S Parattha Roll       Fast Food, North Indian, Chinese, Mughlai, Rolls  ...  400.0\n",
              "Cafe Mondo                                          Cafe, Italian, Beverages  ...  600.0\n",
              "Vasanth Vihar - Since 1965                         South Indian, Street Food  ...  150.0\n",
              "Container Coffee                                                South Indian  ...  200.0\n",
              "Melange - Hotel Ekaa         North Indian, Chinese, Continental, Mangalorean  ...  900.0\n",
              "Tamarind                                  Chinese, North Indian, Continental  ...  750.0\n",
              "\n",
              "[9 rows x 3 columns]"
            ]
          },
          "metadata": {
            "tags": []
          },
          "execution_count": 23
        }
      ]
    },
    {
      "cell_type": "code",
      "metadata": {
        "id": "7nGUhasHepJv"
      },
      "source": [
        ""
      ],
      "execution_count": null,
      "outputs": []
    }
  ]
}